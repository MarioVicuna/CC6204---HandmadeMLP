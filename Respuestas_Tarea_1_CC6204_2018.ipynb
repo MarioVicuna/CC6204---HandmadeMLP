{
  "nbformat": 4,
  "nbformat_minor": 0,
  "metadata": {
    "colab": {
      "name": "Respuestas_Tarea_1_CC6204_2018",
      "provenance": []
    },
    "kernelspec": {
      "name": "python3",
      "display_name": "Python 3"
    }
  },
  "cells": [
    {
      "cell_type": "markdown",
      "metadata": {
        "id": "4zhjpqvcdo5o",
        "colab_type": "text"
      },
      "source": [
        "# Tarea 1 <br/> CC6204 Deep Learning, Universidad de Chile <br/> Hoja de respuestas \n",
        "\n",
        "## Nombre: Mario Vicuña Álvarez\n",
        "Fecha para completar la tarea: miercoles 25 de abril de 2018\n"
      ]
    },
    {
      "cell_type": "markdown",
      "metadata": {
        "id": "C3RE-PBXwnxB",
        "colab_type": "text"
      },
      "source": [
        "## Insturcciones:\n",
        "En este notebook debes dejar todo tu código de las partes 1 hasta 8 de la tarea. Debes dejar el código (y todo lo adicional que hayas programado) en las celdas designadas para ello. Las partes que se hacen a mano (o con fórmulas), puedes entregarlas al final o en un archivo separado. En la siguiente celda encontrarás un *check list* de las partes de la tarea. En cada item indica si lo completaste o no en tu entrega ('SI', o 'NO'). Por favor, no marques como 'SI' partes que no hiciste. Adicionalemnte, el lugar en tu código donde completaste cada parte, márcala con un comentario como el siguiente\n",
        "\n",
        "```\n",
        "#### Parte 4a) Método backward\n",
        "```\n",
        "\n",
        "Si bien para algunas partes puede no estar exactamente claro dónde comienza (y termina) cada parte, usa tu criterio para los comentarios. Esto es sólo para ayudarnos a corregir. Nota que las celdas de más abajo no necesariamente siguen el orden del check list. Por ejemplo en la celda donde defines tu clase para la red neuronal se espera agregues código de las partes 2, 3, 7 etc. Todo eso está en una única celda (lo entenderás cuando mires más abajo).\n",
        "\n",
        "Por favor sigue este formato. **Si no sigues el formato te descontaremos puntaje.**"
      ]
    },
    {
      "cell_type": "markdown",
      "metadata": {
        "id": "jRUVrysiyuZs",
        "colab_type": "text"
      },
      "source": [
        "---\n",
        "\n",
        "## Checklist\n",
        "\n",
        "Parte|Completado\n",
        "---:|---:\n",
        "**1) Activación, derivadas, y salida** |\n",
        "1a) Funciones de activación | SI\n",
        "1b) Derivando las funciones de activación | SI\n",
        "1c) Softmax | SI\n",
        "**2) Red neuronal y pasada hacia adelante** |\n",
        "2a) Clase para red neuronal | SI\n",
        "2b) Usando la GPU | SI\n",
        "2c) Pasada hacia adelante | SI\n",
        "2d) Probando tu red con un modelo pre-entrenado | SI\n",
        "**3) Más derivadas y backpropagation** |\n",
        "3a) Entropía cruzada | SI\n",
        "3b) Derivando la última capa | SI\n",
        "3c) Derivando desde las capas escondidas | SI\n",
        "**4) Backpropagation en nuestra red** |\n",
        "4a) Método backward | SI\n",
        "4b) Checkeo de gradiente | NO\n",
        "4c) Opcional: incluyendo los parámetros de celu y swish | NO\n",
        "**5) Descenso de gradiente y entrenamiento** |\n",
        "5a) Descenso de gradiente | SI\n",
        "5b) Datos para carga | SI\n",
        "5c) Entrenando la red | SI\n",
        "5d) Graficando la pérdida en el tiempo | SI\n",
        "5e) Entrenando con datos no random | SI\n",
        "**6) Regularización** |\n",
        "6a) Regularización por penalización de norma | NO\n",
        "6b) Regularización por dropout | NO\n",
        "**7) Optimización** |\n",
        "7a) Inicialización de Xavier | NO\n",
        "7b) Descenso de gradiente con momentum | SI\n",
        "7c) RMSProp | SI\n",
        "7d) Adam | SI\n",
        "7e) Opcional: batch normalization | NO\n",
        "**8) Entrenando sobre MNIST** |\n",
        "8a) Cargando y visualizando datos de MNIST | SI\n",
        "8b) Red neuronal para MNIST | NO\n",
        "8c) Opcional: visualización de entrenamiento y convergencia | NO\n",
        "\n",
        "---"
      ]
    },
    {
      "cell_type": "code",
      "metadata": {
        "id": "I_kVL7undMBx",
        "colab_type": "code",
        "outputId": "616dda5f-7d0c-4493-acec-e66756ab09aa",
        "colab": {
          "base_uri": "https://localhost:8080/",
          "height": 34
        }
      },
      "source": [
        "# Este notebook está pensado para correr en CoLaboratory. \n",
        "# Comenzamos instalando las librerías necesarias.\n",
        "# Si lo estás ejecutando localmente posiblemente no sea necesario\n",
        "# reinstalar todo.\n",
        "\n",
        "from os import path\n",
        "from wheel.pep425tags import get_abbr_impl, get_impl_ver, get_abi_tag\n",
        "platform = '{}{}-{}'.format(get_abbr_impl(), get_impl_ver(), get_abi_tag())\n",
        "\n",
        "accelerator = 'cu80' if path.exists('/opt/bin/nvidia-smi') else 'cpu'\n",
        "\n",
        "!pip install -q http://download.pytorch.org/whl/{accelerator}/torch-0.3.0.post4-{platform}-linux_x86_64.whl torchvision\n",
        "!pip install -q ipdb\n",
        "\n",
        "import torch\n",
        "import math\n",
        "import copy\n",
        "import os\n",
        "import torchvision\n",
        "from torch.utils.data import Dataset, DataLoader\n",
        "import torchvision.datasets as dset\n",
        "from torchvision import transforms, utils\n",
        "from scipy import misc\n",
        "import glob\n",
        "import numpy as np\n",
        "import matplotlib.pyplot as plt\n",
        "from matplotlib.pyplot import imshow, figure, subplots\n",
        "\n",
        "print('Ready')\n",
        "# Agrega acá todo lo que quieras importar o instalar"
      ],
      "execution_count": 0,
      "outputs": [
        {
          "output_type": "stream",
          "text": [
            "Ready\n"
          ],
          "name": "stdout"
        }
      ]
    },
    {
      "cell_type": "markdown",
      "metadata": {
        "id": "_EhdkSIOFvR9",
        "colab_type": "text"
      },
      "source": [
        "## Funciones de activación, predicción y pérdida\n",
        "\n",
        "Las derivadas calculadas para las funciones de activación se muestran a continuación: \\\\\n",
        " \\\\\n",
        "\n",
        "\\begin{equation}\n",
        "\\frac{\\partial\\ \\text{sigmoid}(x)}{\\partial x}\\; =\\; \\text{sigmoid}(x)\\big(1 - \\text{sigmoid}(x)\\big)\n",
        "\\end{equation}\n",
        "<br><br>\n",
        "\n",
        "\\begin{equation}\n",
        "\\begin{split}\n",
        "\\frac{\\partial\\ \\text{relu}(x)}{\\partial x} = \\left\\{ \\begin{array}{c} 1 & , & x \\geq 0 \\\\ 0 & , & x < 0 \\end{array}\\right. \\\\\n",
        "\\end{split}\n",
        "\\end{equation}\n",
        "<br><br>\n",
        "\n",
        "\\begin{eqnarray}\n",
        "\\frac{\\partial\\ \\text{swish}(x, \\beta)}{\\partial x} & = & \\text{sigmoid}(\\beta x)\\cdot(1-\\beta\\cdot\\text{swish}(x,\\beta))+\\beta\\cdot\\text{swish}(x,\\beta) \\\\\n",
        "\\frac{\\partial\\ \\text{swish}(x, \\beta)}{\\partial \\beta} & = & \\text{swish}(x,\\beta)\\cdot(x-\\text{swish}(x,\\beta)) \\\\\n",
        "\\end{eqnarray}\n",
        "<br><br>\n",
        "\n",
        "\\begin{equation}\n",
        "\\begin{split}\n",
        "\\frac{\\partial\\ \\text{celu}(x, \\alpha)}{\\partial x} & = \\left\\{ \\begin{array}{c} 1 & , & x \\geq 0 \\\\ \\text{exp}(\\frac{x}{\\alpha}) & , & x < 0 \\end{array}\\right. \\\\\n",
        "\\frac{\\partial\\ \\text{celu}(x, \\alpha)}{\\partial \\alpha} & = \\left\\{ \\begin{array}{c} 0 & , & x \\geq 0 \\\\ \\text{exp}(\\frac{x}{\\alpha})\\cdot(1-\\frac{x}{\\alpha}) -1 & , & x < 0 \\end{array}\\right. \\\\\n",
        "\\end{split}\n",
        "\\end{equation}\n",
        "\n",
        "\\\\\n",
        "\n",
        "Nota importante: Las deducciones se encuentran en un archivo aparte, al igual que la demostración de la propiedad de la función softmax."
      ]
    },
    {
      "cell_type": "code",
      "metadata": {
        "id": "p80-9lwaUAix",
        "colab_type": "code",
        "colab": {}
      },
      "source": [
        "#### Parte 1b) Derivando las funciones de activación\n",
        "\n",
        "def sig(T, gradient = False):\n",
        "  if gradient:\n",
        "    return sig(T)*(1-sig(T))\n",
        "  return torch.reciprocal(1 + torch.exp(-1 * T))\n",
        "\n",
        "def tanh(T, gradient = False):\n",
        "  if gradient:\n",
        "    return 1 - tanh(T).pow(2)\n",
        "  E = torch.exp(T)\n",
        "  e = torch.exp(-1 * T)\n",
        "  return (E - e) * torch.reciprocal(E + e)"
      ],
      "execution_count": 0,
      "outputs": []
    },
    {
      "cell_type": "code",
      "metadata": {
        "id": "4VtQWFePbtrF",
        "colab_type": "code",
        "colab": {}
      },
      "source": [
        "#### Parte 1a) Funciones de activación\n",
        "#### Parte 1b) Derivando las funciones de activación\n",
        "\n",
        "def relu(T, gradient = False):\n",
        "  if gradient:\n",
        "    T[T >= 0] = 1\n",
        "    T[T < 0] = 0\n",
        "    return T\n",
        "  zeros = torch.zeros_like(T)\n",
        "  return torch.max(T,zeros)\n",
        "\n",
        "def swish(T, beta = 1, gradient = False):\n",
        "  if gradient:\n",
        "    return sig(beta * T) * (1 - beta * swish(T, beta)) + beta * swish(T,beta)\n",
        "  sigmoidPart = sig(torch.mul(T, beta*torch.ones_like(T)))\n",
        "  return torch.mul(T, sigmoidPart)\n",
        "\n",
        "def celu(T, alpha = 1, gradient = False):\n",
        "  y = torch.ones_like(T)\n",
        "  negOnes = -1 * torch.ones_like(T)\n",
        "  y = T\n",
        "  if gradient:\n",
        "    y[y >= 0 ] = 1\n",
        "    y[y < 0] = torch.exp(y[y < 0]/alpha)\n",
        "    return y\n",
        "  y[y < 0] = alpha * torch.exp(y[y < 0] / alpha - torch.ones_like(y[y < 0]))\n",
        "  return y"
      ],
      "execution_count": 0,
      "outputs": []
    },
    {
      "cell_type": "code",
      "metadata": {
        "id": "5hVvsHp-dGk4",
        "colab_type": "code",
        "cellView": "code",
        "colab": {}
      },
      "source": [
        "#### Parte 1c) Softmax\n",
        "def softmax(T, dim, estable=True):\n",
        "  M = torch.max(T, dim, True)[0]\n",
        "  if estable:\n",
        "    T = T - M #Dada la propiedad demostrada, no afecta si se resta el maximo global del tensor o el maximo por cada fila\n",
        "  exi = torch.exp(T)\n",
        "  sumexi = torch.sum(exi,dim,True) + 1e-09 # Debido a lo comentado en el foro sobre los NaN\n",
        "  return torch.div(exi,sumexi)"
      ],
      "execution_count": 0,
      "outputs": []
    },
    {
      "cell_type": "code",
      "metadata": {
        "id": "1FKxJiOB7Dbl",
        "colab_type": "code",
        "colab": {}
      },
      "source": [
        "#### Parte 3a) Entropía cruzada\n",
        "def cross_ent_loss(Q, P, base2 = False):\n",
        "  N = P.size()[0]\n",
        "  # Logaritmo en base 2\n",
        "  if base2:\n",
        "    lQ = torch.div(torch.log(Q.add(1e-09)),torch.log(torch.Tensor([2])))\n",
        "  # Logaritmo en base e\n",
        "  else:\n",
        "    lQ = torch.log(Q.add(1e-09))\n",
        "  return -1 * torch.sum(torch.mul(P,lQ)) / N"
      ],
      "execution_count": 0,
      "outputs": []
    },
    {
      "cell_type": "markdown",
      "metadata": {
        "id": "UpRt9U6cQv27",
        "colab_type": "text"
      },
      "source": [
        "## Derivando la última capa y las capas ocultas\n",
        "\n",
        "Las derivadas para la última capa calculadas son las siguientes:\n",
        "<br><br>\n",
        "\n",
        "\\begin{equation}\n",
        "\\frac{\\partial\\cal L}{\\partial U} = (h^{(L-1)})^{T} \\cdot \\frac{\\partial\\cal L}{\\partial u^{(L)}} \\\\\n",
        "\\end{equation}\n",
        "<br><br>\n",
        "\n",
        "\\begin{equation}\n",
        "\\frac{\\partial\\cal L}{\\partial c} = sum_0(\\frac{\\partial\\cal L}{\\partial u^{(L)}}) \\\\\n",
        "\\end{equation}\n",
        "<br><br>\n",
        "\n",
        "\\begin{equation}\n",
        "\\frac{\\partial\\cal L}{\\partial h^{(L-1)}} = \\frac{\\partial\\cal L}{\\partial u^{(L)}} \\cdot U^{T} \\\\\n",
        "\\end{equation}\n",
        " \\\\\n",
        "\n",
        "Mientras que para las capas ocultas se tienen las siguientes derivadas:\n",
        "<br><br>\n",
        "\n",
        "\\begin{equation}\n",
        "\\frac{\\partial\\cal L}{\\partial u^{(k)}} = \\frac{\\partial\\cal L}{\\partial h^{(k)}} \\cdot \\frac{\\partial f_{act}(u^{(k)})}{\\partial u^{(k)}} \\\\\n",
        "\\end{equation}\n",
        "<br><br>\n",
        "\n",
        "\\begin{equation}\n",
        "\\frac{\\partial\\cal L}{\\partial W^{(k)}} = (h^{(k-1)})^{T} \\cdot \\frac{\\partial\\cal L}{\\partial u^{(k)}} \\\\\n",
        "\\end{equation}\n",
        "<br><br>\n",
        "\n",
        "\\begin{equation}\n",
        "\\frac{\\partial\\cal L}{\\partial b^{(k)}} = sum_0(\\frac{\\partial\\cal L}{\\partial u^{(k)}}) \\\\\n",
        "\\end{equation}\n",
        "<br><br>\n",
        "\n",
        "\\begin{equation}\n",
        "\\frac{\\partial\\cal L}{\\partial h^{(k-1)}} = \\frac{\\partial\\cal L}{\\partial u^{(k)}} \\cdot (W^{(k)})^{T} \\\\\n",
        "\\end{equation}\n",
        "\n",
        " \\\\\n",
        "Nota importante: Todas las deducciones se encuentran en un archivo aparte.\n",
        "\n",
        "A continuación, se recopilan los bloques de códigos de prueba de dimensiones para los gradientes propuestos:\n"
      ]
    },
    {
      "cell_type": "code",
      "metadata": {
        "id": "QeeKsUu4d7zT",
        "colab_type": "code",
        "colab": {}
      },
      "source": [
        "# Para ir chequeando que al menos las dimensiones de los tensores son \n",
        "# consistentes usaremos las varibles *dummy* a continuación.\n",
        "\n",
        "B = 5; C = 10\n",
        "\n",
        "y = torch.ones(B,C)\n",
        "y_pred = torch.ones(B,C)"
      ],
      "execution_count": 0,
      "outputs": []
    },
    {
      "cell_type": "code",
      "metadata": {
        "id": "g1Lo4J9qesh8",
        "colab_type": "code",
        "colab": {}
      },
      "source": [
        "# Primero agregamos algunas variables dummy para chequear \n",
        "# que al menos las dimensiones están correctas\n",
        "\n",
        "dimL = 40\n",
        "\n",
        "hL = torch.ones(B,dimL)\n",
        "U = torch.ones(dimL,C)\n",
        "c = torch.ones(C)\n",
        "\n",
        "uL = hL.mm(U).add(c)\n",
        "\n",
        "# Ahora tu fórmula para el gradiente\n",
        "\n",
        "dy_duL = y_pred - y_pred*y_pred # Por completitud\n",
        "dL_dy = -1 * (torch.div(y,y_pred) - torch.div((1 - y), (1 - y_pred))) / y.size()[0] # Por completitud\n",
        "dL_duL = dL_dy*dy_duL # Por completitud\n",
        "\n",
        "dL_duL = (y_pred - y) / y.size()[0]\n",
        "\n",
        "# El gradiente debe coincidir en dimensiones con la variable\n",
        "\n",
        "assert dL_duL.size() == uL.size()"
      ],
      "execution_count": 0,
      "outputs": []
    },
    {
      "cell_type": "code",
      "metadata": {
        "id": "B8Uh6lRzes29",
        "colab_type": "code",
        "colab": {}
      },
      "source": [
        "dL_dU = (hL.transpose(0,1)).mm(dL_duL)\n",
        "\n",
        "dL_dc = torch.sum(dL_duL,0)\n",
        "\n",
        "dL_dhL = dL_duL.mm(U.transpose(0,1))\n",
        "\n",
        "# El gradiente debe coincidir en dimensiones con las variables\n",
        "\n",
        "assert dL_dU.size() == U.size()\n",
        "assert dL_dc.size() == c.size()\n",
        "assert dL_dhL.size() == hL.size()"
      ],
      "execution_count": 0,
      "outputs": []
    },
    {
      "cell_type": "code",
      "metadata": {
        "id": "lTYw2jZoetHl",
        "colab_type": "code",
        "colab": {}
      },
      "source": [
        "# Primero agregamos algunas variables dummy para chequear \n",
        "# que al menos las dimensiones están correctas\n",
        "\n",
        "dimkmenos1 = 20\n",
        "dimk = 30\n",
        "\n",
        "hkmenos1 = torch.ones(B,dimkmenos1)\n",
        "Wk = torch.ones(dimkmenos1,dimk)\n",
        "bk = torch.ones(dimk)\n",
        "\n",
        "uk = hkmenos1.mm(Wk).add(bk)\n",
        "\n",
        "dL_dhk = torch.ones(B,dimk)\n",
        "\n",
        "# Ahora tu fórmula para el gradiente.\n",
        "# Esto debes repetirlo para relu, celu, y swish\n",
        "\n",
        "# Para relu:\n",
        "dL_duk = dL_dhk * relu(uk, gradient = True)\n",
        "dL_dWk = (hkmenos1.transpose(0,1)).mm(dL_duk)\n",
        "dL_dbk = torch.sum(dL_duk,0)\n",
        "dL_dhkmenos1 = dL_duk.mm(Wk.transpose(0,1))\n",
        "\n",
        "# El gradiente debe coincidir en dimensiones con las variables\n",
        "\n",
        "assert dL_dWk.size() == Wk.size()\n",
        "assert dL_dbk.size() == bk.size()\n",
        "assert dL_dhkmenos1.size() == hkmenos1.size()\n",
        "\n",
        "\n",
        "# Para celu:\n",
        "dL_duk = dL_dhk * celu(uk, 1, gradient = True)\n",
        "dL_dWk = (hkmenos1.transpose(0,1)).mm(dL_duk)\n",
        "dL_dbk = torch.sum(dL_duk,0)\n",
        "dL_dhkmenos1 = dL_duk.mm(Wk.transpose(0,1))\n",
        "\n",
        "# El gradiente debe coincidir en dimensiones con las variables\n",
        "\n",
        "assert dL_dWk.size() == Wk.size()\n",
        "assert dL_dbk.size() == bk.size()\n",
        "assert dL_dhkmenos1.size() == hkmenos1.size()\n",
        "\n",
        "\n",
        "# Para swish:\n",
        "dL_duk = dL_dhk * swish(uk, 1, gradient = True)\n",
        "dL_dWk = (hkmenos1.transpose(0,1)).mm(dL_duk)\n",
        "dL_dbk = torch.sum(dL_duk,0)\n",
        "dL_dhkmenos1 = dL_duk.mm(Wk.transpose(0,1))\n",
        "\n",
        "# El gradiente debe coincidir en dimensiones con las variables\n",
        "\n",
        "assert dL_dWk.size() == Wk.size()\n",
        "assert dL_dbk.size() == bk.size()\n",
        "assert dL_dhkmenos1.size() == hkmenos1.size()"
      ],
      "execution_count": 0,
      "outputs": []
    },
    {
      "cell_type": "markdown",
      "metadata": {
        "id": "2m3i_1ijPLr_",
        "colab_type": "text"
      },
      "source": [
        "## Clase FFNN, incialización, forward, backward y regularización\n"
      ]
    },
    {
      "cell_type": "code",
      "metadata": {
        "id": "E79vHyuu4mIZ",
        "colab_type": "code",
        "colab": {}
      },
      "source": [
        "#### Parte 2a) Clase para red neuronal\n",
        "class FFNN():\n",
        "  \n",
        "  def __init__(\n",
        "      self, F, l_h, l_a, C, \n",
        "      wc_par=None, \n",
        "      keep_prob=None, \n",
        "      init=None,\n",
        "      bn=None\n",
        "  ):\n",
        "    self.l_a = l_a\n",
        "    self.Weights = []\n",
        "    self.Biases = []\n",
        "    self.Weights.append(torch.rand(F, l_h[0]))\n",
        "    self.Biases.append(torch.zeros(l_h[0]))\n",
        "    for layer in range(0, len(l_h) - 1):\n",
        "      self.Weights.append(torch.rand(l_h[layer], l_h[layer + 1]))\n",
        "      self.Biases.append(torch.zeros(l_h[layer + 1]))\n",
        "    self.Weights.append(torch.rand(l_h[len(l_h) - 1], C) - 0.5)\n",
        "    self.Biases.append(torch.zeros(C))\n",
        "    self.u = []\n",
        "    self.h = []\n",
        "    self.dL_dW = []\n",
        "    self.dL_dB = []\n",
        "    #### Parte 7a) Inicialización de Xavier\n",
        "    #### Parte 7e) Opcional: batch normalization\n",
        "\n",
        "  def setWeights(self, W):\n",
        "    self.Weights = W\n",
        "  \n",
        "  def setBiases(self, B):\n",
        "    self.Biases = B\n",
        "  \n",
        "  #### Parte 2c) Pasada hacia adelante\n",
        "  def forward(self, x, predict=False):\n",
        "    self.u = []\n",
        "    self.h = []\n",
        "    for i in range(0,len(self.Weights)):\n",
        "      if i == 0:\n",
        "        preactivation = torch.mm(x,self.Weights[i]) + self.Biases[i]\n",
        "        activation = self.l_a[i](preactivation)\n",
        "        self.u.append(preactivation)\n",
        "        self.h.append(activation)\n",
        "      elif i == len(self.Weights) - 1:\n",
        "        preactivation = torch.mm(self.h[i - 1],self.Weights[i]) + self.Biases[i]\n",
        "        activation = softmax(preactivation, 1)\n",
        "        self.u.append(preactivation)\n",
        "        self.h.append(activation)\n",
        "      else:\n",
        "        preactivation = torch.mm(self.h[i - 1],self.Weights[i]) + self.Biases[i]\n",
        "        activation = self.l_a[i](preactivation)\n",
        "        self.u.append(preactivation)\n",
        "        self.h.append(activation)\n",
        "    return self.h[len(self.h) - 1]\n",
        "\n",
        "  \n",
        "  #### Parte 4a) Método backward\n",
        "  def backward(self, x, y, y_pred):\n",
        "    self.dL_dW = []\n",
        "    self.dL_dB = []\n",
        "    W = (copy.copy(self.Weights)); W.reverse()\n",
        "    B = (copy.copy(self.Biases)); B.reverse()\n",
        "    preactivations = (copy.copy(self.u)); preactivations.reverse()\n",
        "    activations = (copy.copy(self.h)); activations.reverse()\n",
        "    activationFunction = (copy.copy(self.l_a)); activationFunction.reverse()\n",
        "    # Última capa\n",
        "    dL_duL = (y_pred - y) / y.size()[0]\n",
        "    dL_dW = (activations[1].transpose(0,1)).mm(dL_duL)\n",
        "    dL_dB = torch.sum(dL_duL,0)\n",
        "    dL_dh = dL_duL.mm(W[0].transpose(0,1))\n",
        "    self.dL_dW.append(dL_dW)\n",
        "    self.dL_dB.append(dL_dB)\n",
        "    # Resto de las capas\n",
        "    for i in range(1, len(W)):\n",
        "      dL_duL = dL_dh * activationFunction[i-1](preactivations[i], gradient = True)\n",
        "      if i == len(W) - 1:\n",
        "        dL_dW = (x.transpose(0,1)).mm(dL_duL)\n",
        "      else:\n",
        "        dL_dW = (activations[i+1].transpose(0,1)).mm(dL_duL)\n",
        "      dL_dB = torch.sum(dL_duL,0)\n",
        "      dL_dh = dL_duL.mm(W[i].transpose(0,1))\n",
        "      self.dL_dW.append(dL_dW)\n",
        "      self.dL_dB.append(dL_dB)\n",
        "    self.dL_dW.reverse()\n",
        "    self.dL_dB.reverse()\n",
        "\n",
        "  \n",
        "  #### Parte 2b) Usando la GPU\n",
        "  def gpu(self):\n",
        "    # Pasa todos los parámetros a la GPU\n",
        "    cuda_Weights = []\n",
        "    cuda_Biases = []\n",
        "    if torch.cuda.is_available():\n",
        "      for i in range(0, len(self.Weights)):\n",
        "        cuda_Weights.append(self.Weights[i].cuda())\n",
        "        cuda_Biases.append(self.Biases[i].cuda())\n",
        "      self.Weights = cuda_Weights\n",
        "      self.Biases = cuda_Biases\n",
        "  \n",
        "  def cpu(self):\n",
        "    # Pasa todos los parámetros a la CPU\n",
        "    cpu_Weights = []\n",
        "    cpu_Biases = []\n",
        "    for i in range(0, len(self.Weights)):\n",
        "      cpu_Weights.append(self.Weights[i].cpu())\n",
        "      cpu_Biases.append(self.Biases[i].cpu())\n",
        "    self.Weights = cpu_Weights\n",
        "    self.Biases = cpu_Biases"
      ],
      "execution_count": 0,
      "outputs": []
    },
    {
      "cell_type": "markdown",
      "metadata": {
        "id": "lkOpCOUj7a-X",
        "colab_type": "text"
      },
      "source": [
        "## Probando tu red con un modelo pre-entrenado y visualizando casos incorrectos"
      ]
    },
    {
      "cell_type": "code",
      "metadata": {
        "id": "WdX6bv6NvTYR",
        "colab_type": "code",
        "outputId": "0f859576-f022-4428-e609-de8d2157896e",
        "colab": {
          "base_uri": "https://localhost:8080/",
          "height": 493
        }
      },
      "source": [
        "#### Parte 2d) Probando tu red con un modelo pre-entrenado\n",
        "## Leemos los datos y los cargamos a la red:\n",
        "!git clone https://github.com/jorgeperezrojas/cc6204-DeepLearning-DCCUChile.git\n",
        "os.chdir(\"./cc6204-DeepLearning-DCCUChile/2018/tareas/tarea1/recursos/varita_magica/\")\n",
        "\n",
        "U = torch.from_numpy(np.loadtxt(\"./modelos/ejemplo/U.txt\")).float()\n",
        "W1 = torch.from_numpy(np.loadtxt(\"./modelos/ejemplo/W1.txt\")).float()\n",
        "W2 = torch.from_numpy(np.loadtxt(\"./modelos/ejemplo/W2.txt\")).float()\n",
        "b1 = torch.from_numpy(np.loadtxt(\"./modelos/ejemplo/b1.txt\")).float()\n",
        "b2 = torch.from_numpy(np.loadtxt(\"./modelos/ejemplo/b2.txt\")).float()\n",
        "c = torch.from_numpy(np.loadtxt(\"./modelos/ejemplo/c.txt\")).float()\n",
        "trainedWeights = [W1, W2, U]\n",
        "trainedBiases = [b1, b2, c]\n",
        "wandNet = FFNN(64*64,[W2.size()[0],W2.size()[1]],[sig,sig],10)\n",
        "\n",
        "wandNet.setWeights(trainedWeights)\n",
        "wandNet.setBiases(trainedBiases)\n",
        "wandNet.gpu()\n",
        "print(\"MLP loaded\")\n",
        "\n",
        "## Preparación de los datos:\n",
        "trainData = []\n",
        "trainLabels = []\n",
        "pathTrainDict = {}\n",
        "c = 0\n",
        "for spell in range(0, 10):\n",
        "  for img in range(0, 220):\n",
        "    path = \"./data/train_set/hechizo-{}/{:03}.txt\".format(spell, img + 1)\n",
        "    pathTrainDict[str(c)] = path\n",
        "    c += 1\n",
        "    example = np.loadtxt(path)\n",
        "    example = example.reshape(-1)\n",
        "    trainData.append(example)\n",
        "    label = [0] * 10\n",
        "    label[spell] = 1\n",
        "    trainLabels.append(label)\n",
        "trainLabels = torch.Tensor(trainLabels)\n",
        "trainData = torch.Tensor(trainData).float()\n",
        "print(\"Train data loaded\")\n",
        "\n",
        "testData = []\n",
        "testLabels = []\n",
        "pathTestDict = {}\n",
        "c = 0\n",
        "for spell in range(0, 10):\n",
        "  for img in range(0, 50):\n",
        "    path = \"./data/test_set/hechizo-{}/{:03}.txt\".format(spell, img + 1)\n",
        "    pathTestDict[str(c)] = path\n",
        "    c += 1\n",
        "    example = np.loadtxt(path)\n",
        "    example = example.reshape(-1)\n",
        "    testData.append(example)\n",
        "    label = [0] * 10\n",
        "    label[spell] = 1\n",
        "    testLabels.append(label)\n",
        "testLabels = torch.Tensor(testLabels)\n",
        "testData = torch.Tensor(testData).float()\n",
        "print(\"Test data loaded\")\n",
        "\n",
        "## Intentamos pasar los datos a la gpu:\n",
        "try:\n",
        "  trainData = trainData.cuda()\n",
        "  trainLabels = trainLabels.cuda()\n",
        "  testData = testData.cuda()\n",
        "  testLabels = testLabels.cuda()\n",
        "except Exception:\n",
        "  pass\n",
        "\n",
        "# Forward:\n",
        "trainOut = wandNet.forward(trainData)\n",
        "testOut = wandNet.forward(testData)\n",
        "\n",
        "allData = torch.cat([trainData,testData],0)\n",
        "allLabels = torch.cat([trainLabels,testLabels],0)\n",
        "allOuts = wandNet.forward(allData)\n",
        "(p, maxIndex) = torch.max(allOuts,1)\n",
        "predictionMatrix = torch.zeros_like(allLabels)\n",
        "wrongExamples = []\n",
        "for i in range(0,allLabels.size()[0]):\n",
        "  if allLabels[i][maxIndex[i]] == 1:\n",
        "    predictionMatrix[i][maxIndex[i]] = 1\n",
        "  else:\n",
        "    wrongExamples.append(i)\n",
        "correctCases = torch.mul(allLabels,predictionMatrix)\n",
        "print(\"Accuracy over all data: {}%\".format(torch.sum(correctCases)/correctCases.size()[0] * 100))\n",
        "\n",
        "## Visualización de ejemplos mal clasificados:\n",
        "trainIndex = wrongExamples[np.random.randint(0,len(wrongExamples))]\n",
        "if trainIndex >= trainData.size()[0]:\n",
        "  limit = trainData.size()[0]\n",
        "  trainIndex = trainIndex%int(limit)\n",
        "testIndex = wrongExamples[np.random.randint(0,len(wrongExamples))]\n",
        "if testIndex >= testData.size()[0]:\n",
        "  limit = testData.size()[0]\n",
        "  testIndex = testIndex%int(limit)\n",
        "trainExamplePath = pathTrainDict[str(trainIndex)].replace(\"txt\",\"png\")\n",
        "testExamplePath = pathTestDict[str(testIndex)].replace(\"txt\",\"png\")\n",
        "trainImage = misc.imread(trainExamplePath)\n",
        "testImage = misc.imread(testExamplePath)\n",
        "fig, axs = subplots(nrows=2, sharey=True, figsize=(3,2*3))\n",
        "axs[0].imshow(trainImage[:, :, 1], cmap=plt.cm.gray)\n",
        "axs[0].set_title(\"Miss-classified example from train set:\")\n",
        "axs[1].imshow(testImage[:, :, 1], cmap=plt.cm.gray)\n",
        "axs[1].set_title(\"Miss-classified example from test set:\")"
      ],
      "execution_count": 0,
      "outputs": [
        {
          "output_type": "stream",
          "text": [
            "fatal: destination path 'cc6204-DeepLearning-DCCUChile' already exists and is not an empty directory.\r\n",
            "MLP loaded\n",
            "Train data loaded\n",
            "Test data loaded\n",
            "Accuracy over all data: 88.88888888888889%\n"
          ],
          "name": "stdout"
        },
        {
          "output_type": "execute_result",
          "data": {
            "text/plain": [
              "Text(0.5,1,'Miss-classified example from test set:')"
            ]
          },
          "metadata": {
            "tags": []
          },
          "execution_count": 11
        },
        {
          "output_type": "display_data",
          "data": {
            "image/png": "[encoded data removed]",
            "text/plain": [
              "<matplotlib.figure.Figure at 0x7f4f233549b0>"
            ]
          },
          "metadata": {
            "tags": []
          }
        }
      ]
    },
    {
      "cell_type": "markdown",
      "metadata": {
        "id": "7KdiE3RDwERd",
        "colab_type": "text"
      },
      "source": [
        "## Checkeo de gradiente"
      ]
    },
    {
      "cell_type": "code",
      "metadata": {
        "id": "7zcMfV-XwMb9",
        "colab_type": "code",
        "colab": {}
      },
      "source": [
        "#### Parte 4b) Chequeo de gradiente"
      ],
      "execution_count": 0,
      "outputs": []
    },
    {
      "cell_type": "markdown",
      "metadata": {
        "id": "oG-I7Oyl-qsd",
        "colab_type": "text"
      },
      "source": [
        "## Descenso de gradiente, momentum, RMSProp y Adam\n"
      ]
    },
    {
      "cell_type": "code",
      "metadata": {
        "id": "TUkJA9Qm2GKY",
        "colab_type": "code",
        "colab": {}
      },
      "source": [
        "#### Parte 5a) Descenso de gradiente\n",
        "#### Parte 7b) Descenso de gradiente con momentum\n",
        "class SGD():\n",
        "  def __init__(self, red, lr = 0.01, momentum = 0.9):\n",
        "    self.NN = red\n",
        "    self.lr = lr\n",
        "    self.momentum = momentum\n",
        "    self.velW = [0]*len(self.NN.Weights)\n",
        "    self.velB = [0]*len(self.NN.Biases)\n",
        "  \n",
        "  def step(self):\n",
        "    # Actualiza los parámetros a partir de los gradientes\n",
        "    for layer in range(0, len(self.NN.Weights)):\n",
        "      self.velW[layer] = self.momentum * self.velW[layer]- self.lr * self.NN.dL_dW[layer]\n",
        "      self.velB[layer] = self.momentum * self.velB[layer]- self.lr * self.NN.dL_dB[layer]\n",
        "      self.NN.Weights[layer] = self.NN.Weights[layer] + self.velW[layer]\n",
        "      self.NN.Biases[layer] = self.NN.Biases[layer] + self.velB[layer]\n",
        "      \n",
        "  def restart(self):\n",
        "    # Para reinicializar las velocidades antes de cada época\n",
        "    self.velW = [0]*len(self.NN.Weights)\n",
        "    self.velB = [0]*len(self.NN.Biases)"
      ],
      "execution_count": 0,
      "outputs": []
    },
    {
      "cell_type": "code",
      "metadata": {
        "id": "QfT8N2KY9NLI",
        "colab_type": "code",
        "colab": {}
      },
      "source": [
        "#### Parte 7c) RMSProp\n",
        "class RMSProp():\n",
        "  def __init__(self, red, lr=0.001, beta=0.9, epsilon=1e-8):\n",
        "    self.NN = red\n",
        "    self.lr = lr\n",
        "    self.beta = beta\n",
        "    self.epsilon = epsilon\n",
        "    self.SW = [0]*len(self.NN.Weights)\n",
        "    self.SB = [0]*len(self.NN.Biases)\n",
        "  \n",
        "  def step(self):\n",
        "    # Actualiza los parámetros a partir de los gradientes\n",
        "    for layer in range(0, len(self.NN.Weights)):\n",
        "      self.SW[layer] = self.beta*self.SW[layer] + (1 - self.beta)*(self.NN.dL_dW[layer].mul(self.NN.dL_dW[layer]))\n",
        "      self.SB[layer] = self.beta*self.SB[layer] + (1 - self.beta)*(self.NN.dL_dB[layer].mul(self.NN.dL_dB[layer]))\n",
        "      self.NN.Weights[layer] = self.NN.Weights[layer] - (self.lr/(torch.sqrt(self.SW[layer]).add(self.epsilon))).mul(self.NN.dL_dW[layer])\n",
        "      self.NN.Biases[layer] = self.NN.Biases[layer] - (self.lr/(torch.sqrt(self.SB[layer]).add(self.epsilon))).mul(self.NN.dL_dB[layer])\n",
        "  \n",
        "  def restart(self):\n",
        "    # Para reinicializar las velocidades antes de cada época\n",
        "    self.SW = [0]*len(self.NN.Weights)\n",
        "    self.SB = [0]*len(self.NN.Biases)"
      ],
      "execution_count": 0,
      "outputs": []
    },
    {
      "cell_type": "code",
      "metadata": {
        "id": "Snfzj9U89XJj",
        "colab_type": "code",
        "colab": {}
      },
      "source": [
        "#### Parte 7d) Adam\n",
        "class Adam():\n",
        "  def __init__(self, red, lr=0.001, beta1=0.9, beta2=0.999, epsilon=1e-8):\n",
        "    self.NN = red\n",
        "    self.lr = lr\n",
        "    self.beta1 = beta1\n",
        "    self.beta2 = beta2\n",
        "    self.n = 1\n",
        "    self.epsilon = epsilon\n",
        "    self.PW = [0]*len(self.NN.Weights)\n",
        "    self.PB = [0]*len(self.NN.Biases)\n",
        "    self.SW = [0]*len(self.NN.Weights)\n",
        "    self.SB = [0]*len(self.NN.Biases)\n",
        "  \n",
        "  def step(self):\n",
        "    # Actualiza los parámetros a partir de los gradientes\n",
        "    for layer in range(0, len(self.NN.Weights)):\n",
        "      self.PW[layer] = self.beta1*self.PW[layer] + (1 - self.beta1)*(self.NN.dL_dW[layer])\n",
        "      self.PB[layer] = self.beta1*self.PB[layer] + (1 - self.beta1)*(self.NN.dL_dB[layer])\n",
        "      self.SW[layer] = self.beta2*self.SW[layer] + (1 - self.beta2)*(self.NN.dL_dW[layer].mul(self.NN.dL_dW[layer]))\n",
        "      self.SB[layer] = self.beta2*self.SB[layer] + (1 - self.beta2)*(self.NN.dL_dB[layer].mul(self.NN.dL_dB[layer]))\n",
        "      \n",
        "      PW_barra = self.PW[layer]/(1 - self.beta1**self.n)\n",
        "      PB_barra = self.PB[layer]/(1 - self.beta1**self.n)\n",
        "      SW_barra = self.SW[layer]/(1 - self.beta2**self.n)\n",
        "      SB_barra = self.SB[layer]/(1 - self.beta2**self.n)\n",
        "      \n",
        "      self.NN.Weights[layer] = self.NN.Weights[layer] - (self.lr/(torch.sqrt(SW_barra).add(self.epsilon))).mul(PW_barra)\n",
        "      self.NN.Biases[layer] = self.NN.Biases[layer] - (self.lr/(torch.sqrt(SB_barra).add(self.epsilon))).mul(PB_barra)\n",
        "      #self.NN.Weights[layer] = self.NN.Weights[layer] - (self.lr/(torch.sqrt(SW_barra).add(self.epsilon)))*(PW_barra)\n",
        "      #self.NN.Biases[layer] = self.NN.Biases[layer] - (self.lr/(torch.sqrt(SB_barra).add(self.epsilon)))*(PB_barra)\n",
        "      \n",
        "    self.n = self.n + 1\n",
        "      \n",
        "  \n",
        "  def restart(self):\n",
        "    # Para reinicializar las velocidades antes de cada época\n",
        "    self.PW = [0]*len(self.NN.Weights)\n",
        "    self.PB = [0]*len(self.NN.Biases)\n",
        "    self.SW = [0]*len(self.NN.Weights)\n",
        "    self.SB = [0]*len(self.NN.Biases)\n",
        "    self.n = 1"
      ],
      "execution_count": 0,
      "outputs": []
    },
    {
      "cell_type": "markdown",
      "metadata": {
        "id": "vpCfOvvbLdoq",
        "colab_type": "text"
      },
      "source": [
        "## Datos random para carga\n"
      ]
    },
    {
      "cell_type": "code",
      "metadata": {
        "id": "U6o4TjFZa3gJ",
        "colab_type": "code",
        "colab": {}
      },
      "source": [
        "#### Parte 5b) Datos para carga\n",
        "class RandomDataset():\n",
        "  def __init__(self, N, F, C, fullyRandom = True):\n",
        "    if fullyRandom: # De modo que los datos sean totalmente aleatorios\n",
        "                    # Notar que se pierde cualquier relación entre datos y labels\n",
        "      self.data = torch.randn(N, F)\n",
        "      labels = torch.zeros(N, C)\n",
        "      index = np.random.randint(0, C)\n",
        "      labels[index] = 1\n",
        "      self.labels = labels\n",
        "    else: # Se definen los labels para los datos según alguna característica:\n",
        "          # Por ejemplo, el mínimo, el máximo, el valor más cercano a algún número dado, etc...\n",
        "      closestTo = torch.abs(self.data - numpy.pi/4)\n",
        "      (value, index) = closestTo.min(dim = 1)\n",
        "      for i in range(0, N):\n",
        "        labels[i,index[i]] = 1\n",
        "      self.labels = labels\n",
        "  \n",
        "  def __len__(self):\n",
        "    return int(self.data.size()[0])\n",
        "  \n",
        "  def __getitem__(self, i):\n",
        "    return self.data[i], self.labels[i]\n",
        "  \n",
        "  def paquetes(self, B):\n",
        "    maxIter = int(len(self)/B)\n",
        "    batch = []\n",
        "    for i in range(0, maxIter):\n",
        "      dataBatch = self.data[i*B:(i+1)*B]\n",
        "      labelBatch = self.labels[i*B:(i+1)*B]\n",
        "      batch.append([dataBatch, labelBatch])\n",
        "    return batch\n",
        "    "
      ],
      "execution_count": 0,
      "outputs": []
    },
    {
      "cell_type": "markdown",
      "metadata": {
        "id": "ccVnn9kLS1Rl",
        "colab_type": "text"
      },
      "source": [
        "## Loop de entrenamiento"
      ]
    },
    {
      "cell_type": "code",
      "metadata": {
        "id": "Y5MNS3x0Sk9i",
        "colab_type": "code",
        "colab": {}
      },
      "source": [
        "#### Parte 5c) Entrenando la red\n",
        "def entrenar_FFNN(red, dataset, optimizador, epochs, B):\n",
        "  netLoss = []\n",
        "  netAccuracy = []\n",
        "  for epoch in range(1, epochs+1):\n",
        "    loss = 0\n",
        "    accuracy = 0\n",
        "    iteration = 0\n",
        "    for batch, labels in dataset.paquetes(B):\n",
        "      prediction = red.forward(batch)\n",
        "      red.backward(batch, labels, prediction)\n",
        "      optimizador.step()\n",
        "      loss = loss + cross_ent_loss(prediction, labels)\n",
        "      labelsIndex = torch.max(labels, 1)[1]\n",
        "      predictionIndex = torch.max(prediction, 1)[1]\n",
        "      rightCases = (labelsIndex == predictionIndex)\n",
        "      accuracy = accuracy + rightCases.sum()/rightCases.size()[0]\n",
        "      iteration = iteration + 1\n",
        "    netLoss.append(loss/iteration)\n",
        "    netAccuracy.append(accuracy/iteration)\n",
        "    optimizador.restart()\n",
        "  return red, netLoss, netAccuracy"
      ],
      "execution_count": 0,
      "outputs": []
    },
    {
      "cell_type": "markdown",
      "metadata": {
        "id": "4u53x0fETEq2",
        "colab_type": "text"
      },
      "source": [
        "## Entrenando con datos random y graficando la pérdida"
      ]
    },
    {
      "cell_type": "code",
      "metadata": {
        "id": "s4jgU-fDUPUD",
        "colab_type": "code",
        "outputId": "cefd7a34-5b34-430c-a075-f2767fa8a3fc",
        "colab": {
          "base_uri": "https://localhost:8080/",
          "height": 376
        }
      },
      "source": [
        "#### Parte 5d) Graficando la pérdida en el tiempo\n",
        "F = 300; C = 10; N = 100\n",
        "dataset = RandomDataset(N, F, C)\n",
        "\n",
        "# Red 1:\n",
        "Net1 = FFNN(F, [50,30], [relu, sig], C)\n",
        "opt1 = SGD(Net1, 0.01)\n",
        "Net1, loss1, acc1 = entrenar_FFNN(Net1, dataset, opt1, 250, 4)\n",
        "\n",
        "# Red 2:\n",
        "Net2 = FFNN(F, [15,10], [relu, sig], C)\n",
        "opt2 = SGD(Net2, 0.01)\n",
        "Net2, loss2, acc2 = entrenar_FFNN(Net2, dataset, opt2, 250, 4)\n",
        "\n",
        "# Red 3:\n",
        "Net3 = FFNN(F, [75,50], [relu, sig], C)\n",
        "opt3 = SGD(Net3, 0.01)\n",
        "Net3, loss3, acc3 = entrenar_FFNN(Net3, dataset, opt3, 250, 4)\n",
        "\n",
        "epochs = range(1,len(loss1)+1)\n",
        "\n",
        "plt.figure()\n",
        "plt.plot(epochs, loss1, label = \"Net 1\")\n",
        "plt.plot(epochs, loss2, label = \"Net 2\")\n",
        "plt.plot(epochs, loss3, label = \"Net 3\")\n",
        "plt.title(\"Loss over training\")\n",
        "plt.legend()\n",
        "plt.xlabel(\"Epoch\")\n",
        "plt.ylabel(\"Loss\")\n",
        "plt.show()"
      ],
      "execution_count": 0,
      "outputs": [
        {
          "output_type": "display_data",
          "data": {
            "image/png": "[encoded data removed]",
            "text/plain": [
              "<matplotlib.figure.Figure at 0x7f4f2328c4e0>"
            ]
          },
          "metadata": {
            "tags": []
          }
        }
      ]
    },
    {
      "cell_type": "markdown",
      "metadata": {
        "id": "hWkGbQPHmaFN",
        "colab_type": "text"
      },
      "source": [
        "## Entrenando con datos de varita mágica\n",
        "\n"
      ]
    },
    {
      "cell_type": "code",
      "metadata": {
        "id": "7PJ_w-4UMeU9",
        "colab_type": "code",
        "outputId": "35815ba0-1726-41df-ecbb-11dfb214244f",
        "colab": {
          "base_uri": "https://localhost:8080/",
          "height": 52
        }
      },
      "source": [
        "#### Parte 5e) Entrenando con datos no random\n",
        "class DataSet():\n",
        "  def __init__(self, data, labels):\n",
        "    self.data = data\n",
        "    self.labels = labels\n",
        "    \n",
        "  def __len__(self):\n",
        "    return int(self.data.size()[0])\n",
        "  \n",
        "  def __getitem__(self, i):\n",
        "    return self.data[i], self.labels[i]\n",
        "  \n",
        "  def paquetes(self, B):\n",
        "    maxIter = int(len(self)/B)\n",
        "    batch = []\n",
        "    for i in range(0, maxIter):\n",
        "      dataBatch = self.data[i*B:(i+1)*B]\n",
        "      labelBatch = self.labels[i*B:(i+1)*B]\n",
        "      batch.append([dataBatch, labelBatch])\n",
        "    return batch\n",
        "  \n",
        "  def shuffle(self):\n",
        "    shuffle = torch.randperm(len(self))\n",
        "    self.data = self.data[shuffle]\n",
        "    self.labels = self.labels[shuffle]\n",
        "\n",
        "trainData = []\n",
        "trainLabels = []\n",
        "pathTrainDict = {}\n",
        "c = 0\n",
        "for spell in range(0, 10):\n",
        "  for img in range(0, 220):\n",
        "    path = \"./data/train_set/hechizo-{}/{:03}.txt\".format(spell, img + 1)\n",
        "    pathTrainDict[str(c)] = path\n",
        "    c += 1\n",
        "    example = np.loadtxt(path)\n",
        "    example = example.reshape(-1)\n",
        "    trainData.append(example)\n",
        "    label = [0] * 10\n",
        "    label[spell] = 1\n",
        "    trainLabels.append(label)\n",
        "trainLabels = torch.Tensor(trainLabels)\n",
        "trainData = torch.Tensor(trainData).float()\n",
        "print(\"Train data loaded\")\n",
        "\n",
        "testData = []\n",
        "testLabels = []\n",
        "pathTestDict = {}\n",
        "c = 0\n",
        "for spell in range(0, 10):\n",
        "  for img in range(0, 50):\n",
        "    path = \"./data/test_set/hechizo-{}/{:03}.txt\".format(spell, img + 1)\n",
        "    pathTestDict[str(c)] = path\n",
        "    c += 1\n",
        "    example = np.loadtxt(path)\n",
        "    example = example.reshape(-1)\n",
        "    testData.append(example)\n",
        "    label = [0] * 10\n",
        "    label[spell] = 1\n",
        "    testLabels.append(label)\n",
        "testLabels = torch.Tensor(testLabels)\n",
        "testData = torch.Tensor(testData).float()\n",
        "print(\"Test data loaded\")\n",
        "\n",
        "# Intentamos pasar los datos a la gpu\n",
        "try:\n",
        "  trainData = trainData.cuda()\n",
        "  trainLabels = trainLabels.cuda()\n",
        "  testData = testData.cuda()\n",
        "  testLabels = testLabels.cuda()\n",
        "except Exception:\n",
        "  pass\n",
        "\n",
        "trainSet = DataSet(trainData, trainLabels)\n",
        "testSet = DataSet(testData, testLabels)\n",
        "trainSet.shuffle(); testSet.shuffle()"
      ],
      "execution_count": 0,
      "outputs": [
        {
          "output_type": "stream",
          "text": [
            "Train data loaded\n",
            "Test data loaded\n"
          ],
          "name": "stdout"
        }
      ]
    },
    {
      "cell_type": "code",
      "metadata": {
        "id": "2_9huCER1I3q",
        "colab_type": "code",
        "outputId": "aa09031d-519c-44a6-b8a9-b44905c6244c",
        "colab": {
          "base_uri": "https://localhost:8080/",
          "height": 805
        }
      },
      "source": [
        "# Pruebas de distintas redes\n",
        "F = 4096; C = 10\n",
        "\n",
        "# Red 1:\n",
        "Net1 = FFNN(F, [10,10], [relu, relu], C)\n",
        "opt1 = RMSProp(Net1)\n",
        "Net1, loss1, acc1 = entrenar_FFNN(Net1, trainSet, opt1, 30, 1)\n",
        "print(\"Net 1 trained\")\n",
        "\n",
        "# Red 2:\n",
        "Net2 = FFNN(F, [10,10], [relu, relu], C)\n",
        "opt2 = RMSProp(Net2)\n",
        "Net2, loss2, acc2 = entrenar_FFNN(Net2, trainSet, opt2, 30, 4)\n",
        "print(\"Net 2 trained\")\n",
        "\n",
        "# Red 3:\n",
        "Net3 = FFNN(F, [15,15], [relu, relu], C)\n",
        "opt3 = RMSProp(Net3)\n",
        "Net3, loss3, acc3 = entrenar_FFNN(Net3, trainSet, opt3, 30, 1)\n",
        "print(\"Net 3 trained\")\n",
        "\n",
        "# Red 4:\n",
        "Net4 = FFNN(F, [15,15], [relu, relu], C)\n",
        "opt4 = RMSProp(Net4)\n",
        "Net4, loss4, acc4 = entrenar_FFNN(Net4, trainSet, opt4, 30, 4)\n",
        "print(\"Net 4 trained\")\n",
        "\n",
        "epochs = range(1,len(loss1)+1)\n",
        "\n",
        "plt.figure()\n",
        "plt.plot(epochs, loss1, label = \"Net 1\")\n",
        "plt.plot(epochs, loss2, label = \"Net 2\")\n",
        "plt.plot(epochs, loss3, label = \"Net 3\")\n",
        "plt.plot(epochs, loss4, label = \"Net 4\")\n",
        "plt.title(\"Loss over training\")\n",
        "plt.legend()\n",
        "plt.xlabel(\"Epoch\")\n",
        "plt.ylabel(\"Loss\")\n",
        "plt.show()\n",
        "\n",
        "plt.figure()\n",
        "plt.plot(epochs, acc1, label = \"Net 1\")\n",
        "plt.plot(epochs, acc2, label = \"Net 2\")\n",
        "plt.plot(epochs, acc3, label = \"Net 3\")\n",
        "plt.plot(epochs, acc4, label = \"Net 4\")\n",
        "plt.title(\"Accuracy over training\")\n",
        "plt.legend()\n",
        "plt.xlabel(\"Epoch\")\n",
        "plt.ylabel(\"Accuracy\")\n",
        "plt.show()"
      ],
      "execution_count": 0,
      "outputs": [
        {
          "output_type": "stream",
          "text": [
            "Net 1 trained\n",
            "Net 2 trained\n",
            "Net 3 trained\n",
            "Net 4 trained\n"
          ],
          "name": "stdout"
        },
        {
          "output_type": "display_data",
          "data": {
            "image/png": "[encoded data removed]",
            "text/plain": [
              "<matplotlib.figure.Figure at 0x7f4f233f2240>"
            ]
          },
          "metadata": {
            "tags": []
          }
        },
        {
          "output_type": "display_data",
          "data": {
            "image/png": "[encoded data removed]",
            "text/plain": [
              "<matplotlib.figure.Figure at 0x7f4f233bd4a8>"
            ]
          },
          "metadata": {
            "tags": []
          }
        }
      ]
    },
    {
      "cell_type": "code",
      "metadata": {
        "id": "lHpgMiahc7I1",
        "colab_type": "code",
        "outputId": "96d9db79-eb8f-4398-9da5-de755df95f7e",
        "colab": {
          "base_uri": "https://localhost:8080/",
          "height": 805
        }
      },
      "source": [
        "# Pruebas\n",
        "F = 4096; C = 10\n",
        "\n",
        "# Red 1:\n",
        "Net1 = FFNN(F, [10,10], [relu, relu], C)\n",
        "opt1 = Adam(Net1)\n",
        "Net1, loss1, acc1 = entrenar_FFNN(Net1, trainSet, opt1, 30, 1)\n",
        "print(\"Net 1 trained\")\n",
        "\n",
        "# Red 2:\n",
        "Net2 = FFNN(F, [10,10], [relu, relu], C)\n",
        "opt2 = Adam(Net2)\n",
        "Net2, loss2, acc2 = entrenar_FFNN(Net2, trainSet, opt2, 30, 4)\n",
        "print(\"Net 2 trained\")\n",
        "\n",
        "# Red 3:\n",
        "Net3 = FFNN(F, [15,15], [relu, relu], C)\n",
        "opt3 = Adam(Net3)\n",
        "Net3, loss3, acc3 = entrenar_FFNN(Net3, trainSet, opt3, 30, 1)\n",
        "print(\"Net 3 trained\")\n",
        "\n",
        "# Red 4:\n",
        "Net4 = FFNN(F, [15,15], [relu, relu], C)\n",
        "opt4 = Adam(Net4)\n",
        "Net4, loss4, acc4 = entrenar_FFNN(Net4, trainSet, opt4, 30, 4)\n",
        "print(\"Net 4 trained\")\n",
        "\n",
        "\n",
        "epochs = range(1,len(loss1)+1)\n",
        "\n",
        "plt.figure()\n",
        "plt.plot(epochs, loss1, label = \"Net 1\")\n",
        "plt.plot(epochs, loss2, label = \"Net 2\")\n",
        "plt.plot(epochs, loss3, label = \"Net 3\")\n",
        "plt.plot(epochs, loss4, label = \"Net 4\")\n",
        "plt.title(\"Loss over training\")\n",
        "plt.legend()\n",
        "plt.xlabel(\"Epoch\")\n",
        "plt.ylabel(\"Loss\")\n",
        "plt.show()\n",
        "\n",
        "plt.figure()\n",
        "plt.plot(epochs, acc1, label = \"Net 1\")\n",
        "plt.plot(epochs, acc2, label = \"Net 2\")\n",
        "plt.plot(epochs, acc3, label = \"Net 3\")\n",
        "plt.plot(epochs, acc4, label = \"Net 4\")\n",
        "plt.title(\"Accuracy over training\")\n",
        "plt.legend()\n",
        "plt.xlabel(\"Epoch\")\n",
        "plt.ylabel(\"Accuracy\")\n",
        "plt.show()"
      ],
      "execution_count": 0,
      "outputs": [
        {
          "output_type": "stream",
          "text": [
            "Net 1 trained\n",
            "Net 2 trained\n",
            "Net 3 trained\n",
            "Net 4 trained\n"
          ],
          "name": "stdout"
        },
        {
          "output_type": "display_data",
          "data": {
            "image/png": "[encoded data removed]",
            "text/plain": [
              "<matplotlib.figure.Figure at 0x7f4f2123e6d8>"
            ]
          },
          "metadata": {
            "tags": []
          }
        },
        {
          "output_type": "display_data",
          "data": {
            "image/png": "[encoded data removed]",
            "text/plain": [
              "<matplotlib.figure.Figure at 0x7f4f1f8e74a8>"
            ]
          },
          "metadata": {
            "tags": []
          }
        }
      ]
    },
    {
      "cell_type": "code",
      "metadata": {
        "id": "QT-KS2CbmX2R",
        "colab_type": "code",
        "outputId": "371285fb-35c1-47a5-f0e4-7f9f8c94212f",
        "colab": {
          "base_uri": "https://localhost:8080/",
          "height": 805
        }
      },
      "source": [
        "# Prueba para comparar RMSProp y Adam (que son los que de mejor funcionan):\n",
        "F = 4096; C = 10\n",
        "\n",
        "# Red 1:\n",
        "Net1 = FFNN(F, [15,15], [relu, relu], C)\n",
        "opt1 = Adam(Net1)\n",
        "Net1, loss1, acc1 = entrenar_FFNN(Net1, trainSet, opt1, 30, 1)\n",
        "print(\"Net 1 trained\")\n",
        "\n",
        "# Red 2:\n",
        "Net2 = FFNN(F, [15,15], [relu, relu], C)\n",
        "opt2 = Adam(Net2)\n",
        "Net2, loss2, acc2 = entrenar_FFNN(Net2, trainSet, opt2, 30, 4)\n",
        "print(\"Net 2 trained\")\n",
        "\n",
        "# Red 3:\n",
        "Net3 = FFNN(F, [15,15], [relu, relu], C)\n",
        "opt3 = RMSProp(Net3)\n",
        "Net3, loss3, acc3 = entrenar_FFNN(Net3, trainSet, opt3, 30, 1)\n",
        "print(\"Net 3 trained\")\n",
        "\n",
        "# Red 4:\n",
        "Net4 = FFNN(F, [15,15], [relu, relu], C)\n",
        "opt4 = RMSProp(Net4)\n",
        "Net4, loss4, acc4 = entrenar_FFNN(Net4, trainSet, opt4, 30, 4)\n",
        "print(\"Net 4 trained\")\n",
        "\n",
        "\n",
        "epochs = range(1,len(loss1)+1)\n",
        "\n",
        "plt.figure()\n",
        "plt.plot(epochs, loss1, label = \"Net 1\")\n",
        "plt.plot(epochs, loss2, label = \"Net 2\")\n",
        "plt.plot(epochs, loss3, label = \"Net 3\")\n",
        "plt.plot(epochs, loss4, label = \"Net 4\")\n",
        "plt.title(\"Loss over training\")\n",
        "plt.legend()\n",
        "plt.xlabel(\"Epoch\")\n",
        "plt.ylabel(\"Loss\")\n",
        "plt.show()\n",
        "\n",
        "plt.figure()\n",
        "plt.plot(epochs, acc1, label = \"Net 1\")\n",
        "plt.plot(epochs, acc2, label = \"Net 2\")\n",
        "plt.plot(epochs, acc3, label = \"Net 3\")\n",
        "plt.plot(epochs, acc4, label = \"Net 4\")\n",
        "plt.title(\"Accuracy over training\")\n",
        "plt.legend()\n",
        "plt.xlabel(\"Epoch\")\n",
        "plt.ylabel(\"Accuracy\")\n",
        "plt.show()"
      ],
      "execution_count": 0,
      "outputs": [
        {
          "output_type": "stream",
          "text": [
            "Net 1 trained\n",
            "Net 2 trained\n",
            "Net 3 trained\n",
            "Net 4 trained\n"
          ],
          "name": "stdout"
        },
        {
          "output_type": "display_data",
          "data": {
            "image/png": "[encoded data removed]",
            "text/plain": [
              "<matplotlib.figure.Figure at 0x7f97635f5390>"
            ]
          },
          "metadata": {
            "tags": []
          }
        },
        {
          "output_type": "display_data",
          "data": {
            "image/png": "[encoded data removed]",
            "text/plain": [
              "<matplotlib.figure.Figure at 0x7f9764f24b00>"
            ]
          },
          "metadata": {
            "tags": []
          }
        }
      ]
    },
    {
      "cell_type": "markdown",
      "metadata": {
        "id": "VTjXiZcTHZgm",
        "colab_type": "text"
      },
      "source": [
        "## Cargando datos de MNIST"
      ]
    },
    {
      "cell_type": "code",
      "metadata": {
        "id": "YE1iMUNfIT1r",
        "colab_type": "code",
        "outputId": "bdfe6a00-b6bc-40bb-b6d5-e7bf3d787ced",
        "colab": {
          "base_uri": "https://localhost:8080/",
          "height": 587
        }
      },
      "source": [
        "#### Parte 8a) Cargando y visualizando datos de MNIST\n",
        "\n",
        "# Importamos las clases necesarias\n",
        "\n",
        "from torchvision.datasets import MNIST\n",
        "from torch.utils.data import DataLoader\n",
        "from torchvision.transforms import ToTensor\n",
        "from matplotlib.pyplot import imshow, figure, subplots\n",
        "\n",
        "# Descarga y almacena el conjunto de entrenamiento y prueba de MNIST\n",
        "# Además aplica una transformación para convertir todas las imágenes a \n",
        "# tensores de pytroch\n",
        "\n",
        "train_data = MNIST('mnist', train=True, download=True, transform=ToTensor())\n",
        "test_data = MNIST('mnist', train=False, transform=ToTensor())\n",
        "\n",
        "print('Cantidad de ejemplos de entrenamiento: ' + str(len(train_data)))\n",
        "print('Cantidad de ejemplos de prueba: ' + str(len(test_data)))\n",
        "\n",
        "# Muestra 3 ejemplos al azar usando un DataLoader\n",
        "\n",
        "dataloader = DataLoader(train_data, shuffle=True)\n",
        "n_ejemplos = 3\n",
        "\n",
        "fig, axs = subplots(nrows=n_ejemplos, sharey=True, figsize=(3,n_ejemplos*3))\n",
        "\n",
        "for i, batch in enumerate(dataloader):\n",
        "  if i == n_ejemplos:\n",
        "    break\n",
        "    \n",
        "  img, d = batch\n",
        "  axs[i].set_title(\"target: \" + str(d.numpy()))\n",
        "  axs[i].imshow(img.view(28,28).numpy())"
      ],
      "execution_count": 0,
      "outputs": [
        {
          "output_type": "stream",
          "text": [
            "Cantidad de ejemplos de entrenamiento: 60000\n",
            "Cantidad de ejemplos de prueba: 10000\n"
          ],
          "name": "stdout"
        },
        {
          "output_type": "display_data",
          "data": {
            "image/png": "[encoded data removed]",
            "text/plain": [
              "<matplotlib.figure.Figure at 0x7f4f1f9b0080>"
            ]
          },
          "metadata": {
            "tags": []
          }
        }
      ]
    },
    {
      "cell_type": "markdown",
      "metadata": {
        "id": "ob9VdT3NKEBP",
        "colab_type": "text"
      },
      "source": [
        "## Red neuronal para MNIST"
      ]
    },
    {
      "cell_type": "code",
      "metadata": {
        "id": "0qWEfhdhUM_P",
        "colab_type": "code",
        "colab": {}
      },
      "source": [
        "#### Parte 8b) Red neuronal para MNIST"
      ],
      "execution_count": 0,
      "outputs": []
    },
    {
      "cell_type": "code",
      "metadata": {
        "id": "bjpfhhL9URCy",
        "colab_type": "code",
        "colab": {}
      },
      "source": [
        "#### Parte 8c) Visualización de entrenamiento y convergencia"
      ],
      "execution_count": 0,
      "outputs": []
    },
    {
      "cell_type": "markdown",
      "metadata": {
        "id": "JF7GV3X4WRSY",
        "colab_type": "text"
      },
      "source": [
        "---\n",
        "\n",
        "## Apéndice: partes a mano"
      ]
    },
    {
      "cell_type": "markdown",
      "metadata": {
        "id": "B5nWf6E7WbHf",
        "colab_type": "text"
      },
      "source": [
        "### Parte 1b) Derivando las funciones de activación"
      ]
    },
    {
      "cell_type": "markdown",
      "metadata": {
        "id": "quUwCy0nWhKp",
        "colab_type": "text"
      },
      "source": [
        ""
      ]
    },
    {
      "cell_type": "markdown",
      "metadata": {
        "id": "dORBkUQ4Wh1z",
        "colab_type": "text"
      },
      "source": [
        "### Parte 3b) Derviando la última capa"
      ]
    },
    {
      "cell_type": "markdown",
      "metadata": {
        "id": "NZlKnTVrWp8y",
        "colab_type": "text"
      },
      "source": [
        ""
      ]
    },
    {
      "cell_type": "markdown",
      "metadata": {
        "id": "hPowZjVDWrrL",
        "colab_type": "text"
      },
      "source": [
        "### Parte 3c) Derivando desde las capas escondidas"
      ]
    },
    {
      "cell_type": "markdown",
      "metadata": {
        "id": "WhJJTBD7Wx-s",
        "colab_type": "text"
      },
      "source": [
        ""
      ]
    },
    {
      "cell_type": "markdown",
      "metadata": {
        "id": "kwqO70d2W2if",
        "colab_type": "text"
      },
      "source": [
        "### Otras derivadas (derivadas opcionales de celu y swish, de batch normalization, etc.)"
      ]
    },
    {
      "cell_type": "markdown",
      "metadata": {
        "id": "J-VAm34vXBAs",
        "colab_type": "text"
      },
      "source": [
        ""
      ]
    }
  ]
}